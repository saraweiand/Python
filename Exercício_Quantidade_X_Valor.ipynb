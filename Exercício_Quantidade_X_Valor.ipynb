{
  "cells": [
    {
      "cell_type": "markdown",
      "metadata": {
        "id": "view-in-github",
        "colab_type": "text"
      },
      "source": [
        "<a href=\"https://colab.research.google.com/github/saraweiand/Python/blob/main/Exerc%C3%ADcio_Quantidade_X_Valor.ipynb\" target=\"_parent\"><img src=\"https://colab.research.google.com/assets/colab-badge.svg\" alt=\"Open In Colab\"/></a>"
      ]
    },
    {
      "cell_type": "code",
      "source": [
        "print('Bem vindo a loja da Sara Weiand Wüst - VENDAS')\n",
        "produto = float(input('Informe o valor unitário do produto: '))\n",
        "qnt = int(input('Informe a quantidade necessária: '))\n",
        "subtotal = produto * qnt\n",
        "if (0 <= qnt) and (qnt < 11):\n",
        "  valorfinal = subtotal + 30\n",
        "  print('O valor sem frete é de {}.' .format(subtotal))\n",
        "  print('O valor com frete é de: {}' .format(valorfinal))\n",
        "elif (11 <= qnt) and (qnt < 101):\n",
        "  valorfinal = subtotal + 60\n",
        "  print('O valor sem frete é de {}.' .format(subtotal))\n",
        "  print('O valor com frete é de: {}' .format(valorfinal))\n",
        "elif (101 <= qnt) and (qnt < 1001):\n",
        "  valorfinal = subtotal + 120\n",
        "  print('O valor sem frete é de {}.' .format(subtotal))\n",
        "  print('O valor com frete é de: {}' .format(valorfinal))\n",
        "else: \n",
        "  if (qnt >= 1001):\n",
        "    valorfinal = subtotal + 240\n",
        "    print('O valor sem frete é de {}.' .format(subtotal))\n",
        "    print('O valor com frete é de: {}' .format(valorfinal))\n"
      ],
      "metadata": {
        "id": "9GAWovMOr8fU",
        "outputId": "3338a7a7-535a-4a15-9889-72e8d1833fd9",
        "colab": {
          "base_uri": "https://localhost:8080/"
        }
      },
      "execution_count": null,
      "outputs": [
        {
          "output_type": "stream",
          "name": "stdout",
          "text": [
            "Bem vindo a loja da Sara Weiand Wüst - VENDAS\n"
          ]
        }
      ]
    }
  ],
  "metadata": {
    "colab": {
      "name": "Olá, este é o Colaboratory",
      "provenance": [],
      "include_colab_link": true
    },
    "kernelspec": {
      "display_name": "Python 3",
      "name": "python3"
    }
  },
  "nbformat": 4,
  "nbformat_minor": 0
}