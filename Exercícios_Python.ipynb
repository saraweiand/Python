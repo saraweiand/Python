{
  "cells": [
    {
      "cell_type": "markdown",
      "metadata": {
        "id": "view-in-github",
        "colab_type": "text"
      },
      "source": [
        "<a href=\"https://colab.research.google.com/github/saraweiand/Python/blob/main/Exerc%C3%ADcios_Python.ipynb\" target=\"_parent\"><img src=\"https://colab.research.google.com/assets/colab-badge.svg\" alt=\"Open In Colab\"/></a>"
      ]
    },
    {
      "cell_type": "code",
      "source": [
        "print('Escolha o que deseja comprar:')\n",
        "print('1 - Maça')\n",
        "print('2 - Laranja')\n",
        "print('3 - Banana')\n",
        "produto = int(input('Qual a sua escolha? '))\n",
        "unidade = int(input('Quantas unidades? '))\n",
        "if(produto == 1):\n",
        "  pagar = unidade * 2.30\n",
        "  print('Você comprou {} maça(s). Total a pagar {}.' .format(produto, pagar))\n",
        "else:\n",
        "  if(produto == 2):\n",
        "    pagar = unidade * 3.60\n",
        "    print('Você comprou {} laranja(s). Total a pagar {}.' .format(unidade, pagar))\n",
        "  else:\n",
        "    if(produto == 3):\n",
        "      pagar = unidade * 1.85\n",
        "      print('Você comprou {} banana(s). Total a pagar {}.' .format(unidade, pagar))\n",
        "    else:\n",
        "      print('Produto inexistente!')      "
      ],
      "metadata": {
        "colab": {
          "base_uri": "https://localhost:8080/"
        },
        "id": "Ah30A7Mz61vI",
        "outputId": "9192abc1-a531-445b-d98a-a9241426ad76"
      },
      "execution_count": 64,
      "outputs": [
        {
          "output_type": "stream",
          "name": "stdout",
          "text": [
            "Escolha o que deseja comprar:\n",
            "1 - Maça\n",
            "2 - Laranja\n",
            "3 - Banana\n",
            "Qual a sua escolha? 2\n",
            "Quantas unidades? 10\n",
            "Você comprou 10 laranja(s). Total a pagar 36.0.\n"
          ]
        }
      ]
    },
    {
      "cell_type": "code",
      "source": [
        "nome = input('Digite seu nome: ')\n",
        "idade = int(input('Digite sua idade: '))\n",
        "if(nome == 'Vinicius'):\n",
        "  print('Bem vindo, Vinicius.')\n",
        "elif idade <= 17:\n",
        "  print('Você é menor de idade!')\n",
        "elif idade >= 100:\n",
        "  print('Você provavavelmente não existe...')\n",
        "  \n"
      ],
      "metadata": {
        "colab": {
          "base_uri": "https://localhost:8080/"
        },
        "id": "SL6kmdqLQ6AT",
        "outputId": "500521fe-2b7e-44ed-dddf-89a3628ad3aa"
      },
      "execution_count": 84,
      "outputs": [
        {
          "output_type": "stream",
          "name": "stdout",
          "text": [
            "Digite seu nome: Sara\n",
            "Digite sua idade: 100\n",
            "Você provavavelmente não existe...\n"
          ]
        }
      ]
    },
    {
      "cell_type": "code",
      "source": [
        "n1 = int(input('Digite um valor inteiro: '))\n",
        "if( n1 >= 1 and n1 <= 100 or n1 >= -100 and n1 <= -1):\n",
        "  print('Seu número está no intervalo correto!')\n",
        "else:\n",
        "  print('Não existe esse número no intervalo pedido...')"
      ],
      "metadata": {
        "colab": {
          "base_uri": "https://localhost:8080/"
        },
        "id": "ocD4eD3-TwTU",
        "outputId": "5778be9d-3da4-49f3-b88d-f66469ea58ef"
      },
      "execution_count": 83,
      "outputs": [
        {
          "output_type": "stream",
          "name": "stdout",
          "text": [
            "Digite um valor inteiro: 98\n",
            "Seu número está no intervalo correto!\n"
          ]
        }
      ]
    },
    {
      "cell_type": "code",
      "source": [
        "A = int(input('Digite o 1º lado do triângulo: '))\n",
        "B = int(input('Digite o 2º lado do triângulo: '))\n",
        "C = int(input('Digite o 3º lado do triângulo: '))\n",
        "if A > 0 and B > 0 and C > 0:\n",
        "  if A + B > C and A + C > B and B + C > A:\n",
        "    if A != B and A != C and B != C:\n",
        "      print('Triângulo Escaleno!')\n",
        "    else:\n",
        "      if A == B and B == C:\n",
        "        print('Triângulo Equilátero!')\n",
        "      else:\n",
        "        print('Triângulo Isósceles!')\n",
        "  else:\n",
        "    print('Ao menos um dos valores indicados não servem para formar um triângulo.')\n",
        "else:\n",
        "  print('Ao menos um dos valores indicados não servem para formar um triângulo.')\n",
        "\n"
      ],
      "metadata": {
        "colab": {
          "base_uri": "https://localhost:8080/"
        },
        "id": "clqGjNMaUv8Y",
        "outputId": "d4585028-fe8d-4a70-cf27-35e08110b767"
      },
      "execution_count": 82,
      "outputs": [
        {
          "output_type": "stream",
          "name": "stdout",
          "text": [
            "Digite o 1º lado do triângulo: 6\n",
            "Digite o 2º lado do triângulo: 9\n",
            "Digite o 3º lado do triângulo: 6\n",
            "Triângulo Isósceles!\n"
          ]
        }
      ]
    },
    {
      "cell_type": "code",
      "source": [],
      "metadata": {
        "id": "XpstSuazXZWo"
      },
      "execution_count": null,
      "outputs": []
    }
  ],
  "metadata": {
    "colab": {
      "collapsed_sections": [],
      "name": "Olá, este é o Colaboratory",
      "provenance": [],
      "include_colab_link": true
    },
    "kernelspec": {
      "display_name": "Python 3",
      "name": "python3"
    }
  },
  "nbformat": 4,
  "nbformat_minor": 0
}