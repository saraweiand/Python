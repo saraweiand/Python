{
  "cells": [
    {
      "cell_type": "markdown",
      "metadata": {
        "id": "view-in-github",
        "colab_type": "text"
      },
      "source": [
        "<a href=\"https://colab.research.google.com/github/saraweiand/Python/blob/main/Exerc%C3%ADcio_Unidade_X_Valor.ipynb\" target=\"_parent\"><img src=\"https://colab.research.google.com/assets/colab-badge.svg\" alt=\"Open In Colab\"/></a>"
      ]
    },
    {
      "cell_type": "code",
      "source": [
        "print('Bem vindo a loja da Sara Weiand Wüst - VENDAS')\n",
        "produto = float(input('Informe o valor unitário do produto: '))\n",
        "qnt = int(input('Informe a quantidade necessária: '))\n",
        "subtotal = produto * qnt\n",
        "if (0 <= qnt) and (qnt < 11):\n",
        "  valorfinal = subtotal + 30\n",
        "  print('O valor sem frete é de {}.' .format(subtotal))\n",
        "  print('O valor com frete é de: {}' .format(valorfinal))\n",
        "elif (11 <= qnt) and (qnt < 101):\n",
        "  valorfinal = subtotal + 60\n",
        "  print('O valor sem frete é de {}.' .format(subtotal))\n",
        "  print('O valor com frete é de: {}' .format(valorfinal))\n",
        "elif (101 <= qnt) and (qnt < 1001):\n",
        "  valorfinal = subtotal + 120\n",
        "  print('O valor sem frete é de {}.' .format(subtotal))\n",
        "  print('O valor com frete é de: {}' .format(valorfinal))\n",
        "else: \n",
        "  if (qnt >= 1001):\n",
        "    valorfinal = subtotal + 240\n",
        "    print('O valor sem frete é de {}.' .format(subtotal))\n",
        "    print('O valor com frete é de: {}' .format(valorfinal))"
      ],
      "metadata": {
        "colab": {
          "base_uri": "https://localhost:8080/"
        },
        "id": "9GAWovMOr8fU",
        "outputId": "457658e4-2e07-4a89-c0e9-bfd73e47041e"
      },
      "execution_count": 2,
      "outputs": [
        {
          "output_type": "stream",
          "name": "stdout",
          "text": [
            "Bem vindo a loja da Sara Weiand Wüst - VENDAS\n",
            "Informe o valor unitário do produto: 5\n",
            "Informe a quantidade necessária: 1000\n",
            "O valor sem frete é de 5000.0.\n",
            "O valor com frete é de: 5120.0\n"
          ]
        }
      ]
    }
  ],
  "metadata": {
    "colab": {
      "name": "Olá, este é o Colaboratory",
      "provenance": [],
      "include_colab_link": true
    },
    "kernelspec": {
      "display_name": "Python 3",
      "name": "python3"
    }
  },
  "nbformat": 4,
  "nbformat_minor": 0
}