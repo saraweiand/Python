{
  "cells": [
    {
      "cell_type": "markdown",
      "metadata": {
        "id": "view-in-github",
        "colab_type": "text"
      },
      "source": [
        "<a href=\"https://colab.research.google.com/github/saraweiand/Python/blob/main/Exerc%C3%ADcio_Sorveteria.ipynb\" target=\"_parent\"><img src=\"https://colab.research.google.com/assets/colab-badge.svg\" alt=\"Open In Colab\"/></a>"
      ]
    },
    {
      "cell_type": "code",
      "source": [
        "print('Bem-vindos a Sorveteria de Sara Weiand Wüst.')\n",
        "soma = 0\n",
        "print('--------------------------------------- MENU --------------------------------------------------')\n",
        "print('│ Código │      Descrição       │ Tamanho P (500ml) │ Tamanho M (1000ml) │ Tamanho G (2000ml) │')\n",
        "print('│   TR   │ Sabores Tradicionais │      R$ 6,00      │      R$ 10,00      │      R$ 18,00      │')\n",
        "print('│   ES   │ Sabores Especiais    │      R$ 7,00      │      R$ 12,00      │      R$ 21,00      │')\n",
        "print('│   PR   │ Sabores Premium      │      R$ 8,00      │      R$ 14,00      │      R$ 24,00      │')\n",
        "print('-----------------------------------------------------------------------------------------------')\n",
        "\n",
        "while True:\n",
        "    tamanho = input('Digite o TAMANHO desejado(P/M/G): ')\n",
        "    codigo = input('Digite o CÓDIGO desejado(TR/ES/PR): ')\n",
        "    if (codigo == 'TR'):\n",
        "        if(tamanho == 'P'):\n",
        "            soma += 6\n",
        "            print('Você comprou um sorvete TRADICIONAL de R$6,00.')\n",
        "        elif(tamanho == 'M'):\n",
        "            soma += 10\n",
        "            print('Você comprou um sorvete TRADICIONAL de R$10,00.')\n",
        "        elif(tamanho == 'G'):\n",
        "            soma += 18\n",
        "            print('Você comprou um sorvete TRADICIONAL de R$18,00.')\n",
        "        else:\n",
        "            print('!!!!!!!!!! TAMANHO incorreto !!!!!!!!!!')\n",
        "            continue\n",
        "\n",
        "    elif (codigo == 'ES'):\n",
        "        if(tamanho == 'P'):\n",
        "            soma += 7\n",
        "            print('Você comprou um sorvete ESPECIAL de R$7,00.')\n",
        "        elif(tamanho == 'M'):\n",
        "            soma += 12\n",
        "            print('Você comprou um sorvete ESPECIAL de R$12,00.')\n",
        "        elif(tamanho == 'G'):\n",
        "            soma += 21\n",
        "            print('Você comprou um sorvete ESPECIAL de R$21,00.')\n",
        "        else:\n",
        "            print('!!!!!!!!!! TAMANHO incorreto !!!!!!!!!!')\n",
        "            continue\n",
        "\n",
        "    elif (codigo == 'PR'):\n",
        "        if(tamanho == 'P'):\n",
        "            soma += 8\n",
        "            print('Você comprou um sorvete PREMIUM de R$7,00.')\n",
        "        elif(tamanho == 'M'):\n",
        "            soma += 14\n",
        "            print('Você comprou um sorvete PREMIUM de R$14,00.')\n",
        "        elif(tamanho == 'G'):\n",
        "            soma += 24\n",
        "            print('Você comprou um sorvete PREMIUM de R$24,00.')\n",
        "        else:\n",
        "            print('!!!!!!!!!! TAMANHO incorreto !!!!!!!!!!')\n",
        "            continue\n",
        "    else:\n",
        "        print('!!!!!!!!! CÓDIGO incorreto !!!!!!!!!!')\n",
        "        continue\n",
        "    print('---------------------------------------')\n",
        "    mais = input('Deseja pedir mais alguma coisa? ')\n",
        "    if (mais == 'S'):\n",
        "        continue\n",
        "    else:\n",
        "        print('O valor final da conta é: R${}.' .format(soma))\n",
        "        break\n"
      ],
      "metadata": {
        "colab": {
          "base_uri": "https://localhost:8080/"
        },
        "id": "9GAWovMOr8fU",
        "outputId": "70adbb21-c8f7-4d80-e071-ebcabd4bf2b1"
      },
      "execution_count": 3,
      "outputs": [
        {
          "output_type": "stream",
          "name": "stdout",
          "text": [
            "Bem-vindos a Sorveteria de Sara Weiand Wüst.\n",
            "--------------------------------------- MENU --------------------------------------------------\n",
            "│ Código │      Descrição       │ Tamanho P (500ml) │ Tamanho M (1000ml) │ Tamanho G (2000ml) │\n",
            "│   TR   │ Sabores Tradicionais │      R$ 6,00      │      R$ 10,00      │      R$ 18,00      │\n",
            "│   ES   │ Sabores Especiais    │      R$ 7,00      │      R$ 12,00      │      R$ 21,00      │\n",
            "│   PR   │ Sabores Premium      │      R$ 8,00      │      R$ 14,00      │      R$ 24,00      │\n",
            "-----------------------------------------------------------------------------------------------\n",
            "Digite o TAMANHO desejado(P/M/G): P\n",
            "Digite o CÓDIGO desejado(TR/ES/PR): TR\n",
            "Você comprou um sorvete TRADICIONAL de R$6,00.\n",
            "---------------------------------------\n",
            "Deseja pedir mais alguma coisa? S\n",
            "Digite o TAMANHO desejado(P/M/G): M\n",
            "Digite o CÓDIGO desejado(TR/ES/PR): ES\n",
            "Você comprou um sorvete ESPECIAL de R$12,00.\n",
            "---------------------------------------\n",
            "Deseja pedir mais alguma coisa? S\n",
            "Digite o TAMANHO desejado(P/M/G): G\n",
            "Digite o CÓDIGO desejado(TR/ES/PR): PR\n",
            "Você comprou um sorvete PREMIUM de R$24,00.\n",
            "---------------------------------------\n",
            "Deseja pedir mais alguma coisa? N\n",
            "O valor final da conta é: R$42.\n"
          ]
        }
      ]
    }
  ],
  "metadata": {
    "colab": {
      "name": "Olá, este é o Colaboratory",
      "provenance": [],
      "include_colab_link": true
    },
    "kernelspec": {
      "display_name": "Python 3",
      "name": "python3"
    }
  },
  "nbformat": 4,
  "nbformat_minor": 0
}